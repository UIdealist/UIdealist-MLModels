{
 "cells": [
  {
   "cell_type": "markdown",
   "metadata": {},
   "source": [
    "# Uidealist\n",
    "\n",
    "## LinkedIn Job Postings\n",
    "\n",
    "LinkedIn jobs posted in 2023 and 2024"
   ]
  }
 ],
 "metadata": {
  "language_info": {
   "name": "python"
  }
 },
 "nbformat": 4,
 "nbformat_minor": 2
}
